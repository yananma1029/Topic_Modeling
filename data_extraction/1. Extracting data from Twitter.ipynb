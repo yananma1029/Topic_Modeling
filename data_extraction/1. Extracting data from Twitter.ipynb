{
 "cells": [
  {
   "cell_type": "raw",
   "source": [
    "# Due to Twitter's API restrictions, this code may no longer function properly. \n",
    "# More information see: https://developer.x.com/en/products/x-api"
   ],
   "metadata": {
    "collapsed": false
   },
   "id": "9197a12cbb447933"
  },
  {
   "cell_type": "code",
   "outputs": [],
   "source": [
    "import tweepy\n",
    "from config import bearer_token\n",
    "import time\n",
    "import pandas as pd\n",
    "from tqdm import tqdm"
   ],
   "metadata": {},
   "id": "a5581bee",
   "execution_count": 1
  },
  {
   "cell_type": "code",
   "execution_count": 2,
   "id": "081fccfc",
   "metadata": {},
   "outputs": [],
   "source": [
    "client = tweepy.Client(bearer_token, wait_on_rate_limit=True)"
   ]
  },
  {
   "cell_type": "code",
   "execution_count": 2,
   "id": "7fc6bc49",
   "metadata": {
    "ExecuteTime": {
     "end_time": "2024-11-12T13:28:50.887280Z",
     "start_time": "2024-11-12T13:28:50.883198Z"
    }
   },
   "outputs": [
    {
     "name": "stdout",
     "output_type": "stream",
     "text": []
    }
   ],
   "source": [
    "result = []\n",
    "user_dict = {}\n",
    "query = '(\"type 1 diabetic\" OR \"type 1 diabetes\" OR #T1D OR #T1DM OR #type1diabetes OR #t1diabetes OR #GBDoc OR #T1DLife OR #t1dlookslikeme) lang:en -is:retweet'\n",
    "# Loop through each response object\n",
    "for response in tqdm(tweepy.Paginator(client.search_all_tweets,\n",
    "                                query = query,\n",
    "                                user_fields = ['username', 'public_metrics', 'description', 'location'],\n",
    "                                tweet_fields = ['created_at', 'geo', 'public_metrics', 'text'],\n",
    "                                expansions = 'author_id', # connet tweet data with user data\n",
    "                                start_time = '2023-01-01T00:00:00Z',\n",
    "                                end_time = '2023-01-31T00:00:00Z',\n",
    "                                max_results = 500).flatten(limit= 10000)):\n",
    "    time.sleep(1)\n",
    "\n",
    "    for user in response.includes['users']:\n",
    "        user_dict[user.id] = {'username': user.username, \n",
    "                              'followers': user.public_metrics['followers_count'],\n",
    "                              'tweets': user.public_metrics['tweet_count'],\n",
    "                              'description': user.description,\n",
    "                              'location': user.location\n",
    "                            } \n",
    "\n",
    "    result.append({'id': response.data['id'],\n",
    "                   'author_id': response.data['author_id'],\n",
    "                   'created_at': response.data['created_at'],\n",
    "                   'text': response.data['text'],\n",
    "                   'retweets': response.data['public_metrics']['retweet_count'], \n",
    "                   'replies': response.data['public_metrics']['reply_count'],\n",
    "                   'likes': response.data['public_metrics']['like_count'],\n",
    "                   'quote_count': response.data['public_metrics']['quote_count']\n",
    "                    })\n",
    "\n",
    "\n",
    "df = pd.DataFrame(result)\n",
    "df.to_csv('Twitter_T1DM_202301.csv')\n",
    "\n"
   ]
  },
  {
   "cell_type": "code",
   "execution_count": null,
   "id": "34014f81",
   "metadata": {},
   "outputs": [],
   "source": []
  }
 ],
 "metadata": {
  "kernelspec": {
   "display_name": "Python 3 (ipykernel)",
   "language": "python",
   "name": "python3"
  },
  "language_info": {
   "codemirror_mode": {
    "name": "ipython",
    "version": 3
   },
   "file_extension": ".py",
   "mimetype": "text/x-python",
   "name": "python",
   "nbconvert_exporter": "python",
   "pygments_lexer": "ipython3",
   "version": "3.8.5"
  }
 },
 "nbformat": 4,
 "nbformat_minor": 5
}
