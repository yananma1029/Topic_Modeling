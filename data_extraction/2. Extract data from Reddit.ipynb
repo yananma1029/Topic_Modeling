{
 "cells": [
  {
   "cell_type": "code",
   "execution_count": 1,
   "id": "f5c4516e",
   "metadata": {},
   "outputs": [],
   "source": [
    "import praw\n",
    "import configparser\n",
    "import datetime\n",
    "import pandas as pd \n",
    "from tqdm import tqdm\n",
    "import time"
   ]
  },
  {
   "cell_type": "code",
   "execution_count": 2,
   "id": "98065afb",
   "metadata": {},
   "outputs": [],
   "source": [
    "# pip install --upgrade praw"
   ]
  },
  {
   "cell_type": "code",
   "execution_count": 3,
   "id": "fb141c8d",
   "metadata": {},
   "outputs": [],
   "source": [
    "config = configparser.ConfigParser()"
   ]
  },
  {
   "cell_type": "code",
   "execution_count": 4,
   "id": "6e7da406",
   "metadata": {},
   "outputs": [],
   "source": [
    "reddit = praw.Reddit(\"bot1\", user_agent=\"your user name\")"
   ]
  },
  {
   "cell_type": "code",
   "execution_count": 35,
   "id": "5ebfe982",
   "metadata": {},
   "outputs": [],
   "source": [
    "subreddit = reddit.subreddit('diabetes_t1') # choose your subreddit"
   ]
  },
  {
   "cell_type": "code",
   "execution_count": 36,
   "id": "437b9c54",
   "metadata": {},
   "outputs": [
    {
     "name": "stderr",
     "output_type": "stream",
     "text": [
      "993it [23:07,  1.40s/it]\n"
     ]
    }
   ],
   "source": [
    "# extract hot posts\n",
    "hot_posts = subreddit.hot(limit = 1000)\n",
    "result = []\n",
    "comments = []\n",
    "\n",
    "for submission in tqdm(hot_posts):\n",
    "    time.sleep(1)\n",
    "    if not submission.stickied: # remove pinned posts\n",
    "        created_time = submission.created_utc\n",
    "        try:\n",
    "            result.append({'ID':submission.id,\n",
    "                           'Author':submission.author_fullname,\n",
    "                       'Created_at':datetime.datetime.fromtimestamp(created_time),\n",
    "                       'Title': submission.title,\n",
    "                       'self_text': submission.selftext,\n",
    "                       'comments': comments\n",
    "                     })\n",
    "            submission.comments.replace_more(limit=0)\n",
    "            for top_level_comment in submission.comments:\n",
    "                comments.append(top_level_comment.body)\n",
    "            comments = []\n",
    "          \n",
    "        except AttributeError:\n",
    "            continue\n",
    "                \n",
    "df_hot = pd.DataFrame(result)\n",
    "df_hot.to_csv('Reddit_hot_t1.csv')"
   ]
  },
  {
   "cell_type": "code",
   "execution_count": 5,
   "id": "9b7901cd",
   "metadata": {},
   "outputs": [],
   "source": [
    "# extract the latest posts or posts after a submission_id\n",
    "def extract_posts(subreddit, limit, submission_id):\n",
    "    result = []\n",
    "    comments = []\n",
    "\n",
    "    if submission_id is None:\n",
    "        new_posts = subreddit.new(limit=limit)\n",
    "    else:\n",
    "        new_posts = subreddit.new(limit=limit, params={'before': submission_id})\n",
    "\n",
    "    for submission in tqdm(new_posts):\n",
    "        time.sleep(1)\n",
    "        if not submission.stickied:\n",
    "            created_time = submission.created_utc\n",
    "            try:\n",
    "                result.append({\n",
    "                    'ID': submission.id,\n",
    "                    'Author': submission.author_fullname,\n",
    "                    'Created_at': datetime.datetime.fromtimestamp(created_time),\n",
    "                    'Title': submission.title,\n",
    "                    'self_text': submission.selftext,\n",
    "                    'comments': comments\n",
    "                })\n",
    "                submission.comments.replace_more(limit=0)\n",
    "                for top_level_comment in submission.comments:\n",
    "                    comments.append(top_level_comment.body)\n",
    "                comments = []\n",
    "\n",
    "            except AttributeError:\n",
    "                continue\n",
    " \n",
    "    return result\n",
    "\n",
    "\n",
    "result = extract_posts(subreddit, limit=1000)\n",
    "df = pd.DataFrame(result)\n",
    "df.to_csv('Reddit_new.csv')\n",
    "\n"
   ]
  },
  {
   "cell_type": "code",
   "outputs": [],
   "source": [
    "# After this you can loop back to get the latest posts after your last submission_id. Here is an example:\n",
    "submission_id = 't3_'+ df.iloc[0]['ID'] # submission if formed as 't3_' + the post ID\n",
    "new_df = extract_posts(subreddit, limit = None, submission_id=submission_id)\n",
    "new_df = pd.DataFrame(new_df)\n",
    "df = pd.concat([new_df,df], ignore_index=True) \n",
    "df.drop_duplicates(subset='ID', inplace=True)"
   ],
   "metadata": {
    "collapsed": false
   },
   "id": "8d212638b814d3a6"
  }
 ],
 "metadata": {
  "kernelspec": {
   "display_name": "Python 3 (ipykernel)",
   "language": "python",
   "name": "python3"
  },
  "language_info": {
   "codemirror_mode": {
    "name": "ipython",
    "version": 3
   },
   "file_extension": ".py",
   "mimetype": "text/x-python",
   "name": "python",
   "nbconvert_exporter": "python",
   "pygments_lexer": "ipython3",
   "version": "3.8.5"
  }
 },
 "nbformat": 4,
 "nbformat_minor": 5
}
