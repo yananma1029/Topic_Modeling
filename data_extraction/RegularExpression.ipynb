{
 "cells": [
  {
   "cell_type": "code",
   "execution_count": 1,
   "id": "78cf5f49",
   "metadata": {},
   "outputs": [],
   "source": [
    "import pandas as pd \n",
    "import numpy as np\n",
    "import re"
   ]
  },
  {
   "cell_type": "code",
   "execution_count": 5,
   "id": "b154ae3d",
   "metadata": {},
   "outputs": [
    {
     "name": "stderr",
     "output_type": "stream",
     "text": [
      "/var/folders/sj/mhjfclt57ldd18bz71k9n__c0000gr/T/ipykernel_59293/2435274828.py:18: DeprecationWarning: Flags not at the start of the expression '(?:(?:turning|turned' (truncated)\n",
      "  age_info_regex = re.compile(\"|\".join(patterns))\n"
     ]
    }
   ],
   "source": [
    "# Age pattern\n",
    "patterns = [\n",
    "    r\"(?:(?:turning|turned)\\s?(\\d{2}))\",\n",
    "    r\"I (was|am) born in (\\d{4})|I (was|am) born in (\\d{2})|I was born on .+, (\\d{4})\",\n",
    "    r\"I am (\\d{1,2}) (years?|yrs|yo)\",\n",
    "    r\"I am (\\d+)[\\.,;!?:]|Now I'm (\\d+)|as a (\\d+) year old|(\\d+) in (\\d{4})|Born in (\\d{4})\",\n",
    "    r\"(\\d+) years? (old|young)|\\[([FM])(\\d+)\\]\",\n",
    "    r'\\b(\\d{1,2})\\s?(?:years?|yrs?|yo)(?:\\s?old)?\\b',\n",
    "    r'(?:I\\'m|I am now)\\s(\\d+)',\n",
    "    r'(?m)(?:(?:\\bme|\\bi|\\bmy|\\bmyself|\\A)\\s?)?(\\(|\\[)\\D*?([1-9][0-9])\\D*?(\\)|\\])(?:\\s?(?:[mfMF]\\s?)?)?'\n",
    "    \n",
    "]\n",
    "\n",
    "age_info_regex = re.compile(\"|\".join(patterns))\n",
    "\n",
    "def extract_age(text):\n",
    "    matches = age_info_regex.findall(text)\n",
    "    for match in matches:\n",
    "        age_parts = [group for group in match if group.isdigit()]\n",
    "        if age_parts:\n",
    "            return int(age_parts[0])\n",
    "    return np.nan\n"
   ]
  },
  {
   "cell_type": "code",
   "execution_count": 6,
   "id": "18ac8014",
   "metadata": {},
   "outputs": [],
   "source": [
    "# education_pattern\n",
    "education_patterns = [\n",
    "    r\"(going to|enrolling in|go to|enroll in) (college|university) (next|last) (year|month|semester)\",\n",
    "    r\"graduated (from)? (college|university)? in (\\d{4})\",\n",
    "    r\"graduated (from)? (college|university)? (\\d{1,2}) (years|months|days) ago\",\n",
    "    r\"(high )?school\",\n",
    "    r\"college\",\n",
    "    r\"university\",\n",
    "    r\"freshman|frosh\",\n",
    "    r\"sophomore\",\n",
    "    r\"graduating in (\\d{4})\",\n",
    "    r\"study(ing) abroad\",\n",
    "    r\"dorm(s)?\",\n",
    "    r\"(in|at) class\"\n",
    "]\n",
    "\n",
    "edu_info_regex = re.compile(\"|\".join(education_patterns), re.IGNORECASE)\n",
    "\n",
    "# Define a function to check if the text matches education patterns\n",
    "def extract_edu(text):\n",
    "    matches = edu_info_regex.findall(text)\n",
    "    return 'Yes' if matches else np.nan\n"
   ]
  },
  {
   "cell_type": "code",
   "execution_count": null,
   "id": "6b4816a2",
   "metadata": {},
   "outputs": [],
   "source": []
  }
 ],
 "metadata": {
  "kernelspec": {
   "display_name": "Python 3 (ipykernel)",
   "language": "python",
   "name": "python3"
  },
  "language_info": {
   "codemirror_mode": {
    "name": "ipython",
    "version": 3
   },
   "file_extension": ".py",
   "mimetype": "text/x-python",
   "name": "python",
   "nbconvert_exporter": "python",
   "pygments_lexer": "ipython3",
   "version": "3.8.5"
  }
 },
 "nbformat": 4,
 "nbformat_minor": 5
}
